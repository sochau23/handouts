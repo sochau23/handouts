{
 "cells": [
  {
   "cell_type": "markdown",
   "metadata": {},
   "source": [
    "### Requests"
   ]
  },
  {
   "cell_type": "code",
   "execution_count": null,
   "metadata": {},
   "outputs": [],
   "source": [
    "import ...\n",
    "\n",
    "response = ...('https://xkcd.com/869')\n"
   ]
  },
  {
   "cell_type": "code",
   "execution_count": null,
   "metadata": {},
   "outputs": [],
   "source": [
    "from bs4 import BeautifulSoup\n",
    "\n",
    "doc = ...(..., 'lxml')\n",
    "print('\\n'.join(\n",
    "    doc.prettify().splitlines()[0:10]\n",
    "    ))"
   ]
  },
  {
   "cell_type": "code",
   "execution_count": null,
   "metadata": {},
   "outputs": [],
   "source": [
    "img = ...\n",
    "img"
   ]
  },
  {
   "cell_type": "code",
   "execution_count": null,
   "metadata": {},
   "outputs": [],
   "source": [
    "from textwrap import fill\n",
    "\n",
    "print(fill(img['title'], width = 42))"
   ]
  },
  {
   "cell_type": "markdown",
   "metadata": {},
   "source": [
    "### HTML Table"
   ]
  },
  {
   "cell_type": "code",
   "execution_count": null,
   "metadata": {},
   "outputs": [],
   "source": [
    "import ...\n",
    "\n",
    "acs5_variables = ...(\n",
    "    'https://api.census.gov/data/2016/acs/acs5/variables.html'\n",
    "    )\n",
    "vars = acs5_variables[0]\n",
    "vars.head()"
   ]
  },
  {
   "cell_type": "code",
   "execution_count": null,
   "metadata": {},
   "outputs": [],
   "source": [
    "rows = (\n",
    "    ...\n",
    "    ...(\n",
    "        'household income',\n",
    "        na = False,\n",
    "        )\n",
    "    )\n",
    "for idx, row in ...:\n",
    "    print('{}:\\t{}'.format(row['Name'], row['Label']))"
   ]
  },
  {
   "cell_type": "markdown",
   "metadata": {},
   "source": [
    "### REST API"
   ]
  },
  {
   "cell_type": "code",
   "execution_count": null,
   "metadata": {},
   "outputs": [],
   "source": [
    "... = 'https://api.census.gov/data/2016/acs5'\n",
    "... = {\n",
    "  'get': 'NAME,AIANHH',\n",
    "  'for': ...,\n",
    "  ...,\n",
    "}\n",
    "response = ...\n",
    "response"
   ]
  },
  {
   "cell_type": "code",
   "execution_count": null,
   "metadata": {},
   "outputs": [],
   "source": [
    "for ... in ...:\n",
    "    print('{}: {}'.format(...))"
   ]
  },
  {
   "cell_type": "code",
   "execution_count": null,
   "metadata": {},
   "outputs": [],
   "source": [
    "data = pd....(...)\n",
    "data"
   ]
  },
  {
   "cell_type": "markdown",
   "metadata": {},
   "source": [
    "### Specialized Packages"
   ]
  },
  {
   "cell_type": "code",
   "execution_count": 1,
   "metadata": {},
   "outputs": [
    {
     "data": {
      "text/plain": [
       "<census.core.ACS5Client at 0x10bf9b5f8>"
      ]
     },
     "execution_count": 1,
     "metadata": {},
     "output_type": "execute_result"
    }
   ],
   "source": [
    "from census import Census\n",
    "\n",
    "...\n",
    "c = Census(key, ...)\n",
    "c.acs5"
   ]
  },
  {
   "cell_type": "code",
   "execution_count": 2,
   "metadata": {},
   "outputs": [],
   "source": [
    "variables = ('NAME', 'B19013_001E')"
   ]
  },
  {
   "cell_type": "code",
   "execution_count": 12,
   "metadata": {},
   "outputs": [
    {
     "data": {
      "text/plain": [
       "{'NAME': 'Census Tract 1, Allegany County, Maryland',\n",
       " 'B19013_001E': 42292.0,\n",
       " 'state': '24',\n",
       " 'county': '001',\n",
       " 'tract': '000100'}"
      ]
     },
     "execution_count": 12,
     "metadata": {},
     "output_type": "execute_result"
    }
   ],
   "source": [
    "response = c.acs5.state_county_tract(\n",
    "    ...,\n",
    "    ...,\n",
    "    ...,\n",
    "    ...,\n",
    "    )\n",
    "response[0]"
   ]
  },
  {
   "cell_type": "code",
   "execution_count": 33,
   "metadata": {},
   "outputs": [],
   "source": [
    "df = pd.DataFrame(...)\n",
    "mask = df['B19013_001E'] == -666666666.0\n",
    "df = df.loc[~mask, :]"
   ]
  },
  {
   "cell_type": "code",
   "execution_count": 36,
   "metadata": {},
   "outputs": [
    {
     "data": {
      "text/plain": [
       "<matplotlib.axes._subplots.AxesSubplot at 0x111dd3940>"
      ]
     },
     "execution_count": 36,
     "metadata": {},
     "output_type": "execute_result"
    },
    {
     "data": {
      "image/png": "[encoded data removed]",
      "text/plain": [
       "<Figure size 432x288 with 1 Axes>"
      ]
     },
     "metadata": {},
     "output_type": "display_data"
    }
   ],
   "source": [
    "import seaborn as sns\n",
    "\n",
    "sns.boxplot(\n",
    "  data = df,\n",
    "  x = 'county',\n",
    "  y = 'B19013_001E',\n",
    ")"
   ]
  },
  {
   "cell_type": "markdown",
   "metadata": {},
   "source": [
    "### Response Stashing"
   ]
  },
  {
   "cell_type": "code",
   "execution_count": null,
   "metadata": {},
   "outputs": [],
   "source": [
    "import requests\n",
    "from api_key import API_KEY\n",
    "\n",
    "api = 'https://api.data.gov/regulations/v3/'\n",
    "path = 'document.json'\n",
    "query = {\n",
    "    'documentId':'DOI-2017-0002-0001',\n",
    "    'api_key':...,\n",
    "    }\n",
    "response = requests.get(\n",
    "    ...,\n",
    "    params=query)"
   ]
  },
  {
   "cell_type": "code",
   "execution_count": null,
   "metadata": {},
   "outputs": [],
   "source": [
    "doc = ...\n",
    "print('{}: {}'.format(\n",
    "    doc['numItemsRecieved']['label'],\n",
    "    doc['numItemsRecieved']['value'],\n",
    "))"
   ]
  },
  {
   "cell_type": "code",
   "execution_count": null,
   "metadata": {},
   "outputs": [],
   "source": [
    "query = {\n",
    "    'dktid': doc['docketId']['value'],\n",
    "    'dct': 'PS',\n",
    "    'api_key': API_KEY,\n",
    "    }\n",
    "path = ...\n",
    "response = requests.get(api + path, params=query)\n",
    "dkt = response.json()"
   ]
  },
  {
   "cell_type": "code",
   "execution_count": null,
   "metadata": {},
   "outputs": [],
   "source": [
    "print('Number received: {}\\nTotal number: {}'.format(\n",
    "    len(dkt['documents']),\n",
    "    dkt['totalNumRecords'],\n",
    "))"
   ]
  },
  {
   "cell_type": "code",
   "execution_count": null,
   "metadata": {},
   "outputs": [],
   "source": [
    "from sqlalchemy.ext.declarative import declarative_base\n",
    "from sqlalchemy.orm import sessionmaker\n",
    "from sqlalchemy import create_engine\n",
    "\n",
    "... = declarative_base()"
   ]
  },
  {
   "cell_type": "code",
   "execution_count": null,
   "metadata": {},
   "outputs": [],
   "source": [
    "from sqlalchemy import Column, Integer, Text\n",
    "\n",
    "class Comment(...):\n",
    "    __tablename__ = 'comment'\n",
    "    \n",
    "    ... = Column(Integer, primary_key=True)\n",
    "    ... = Column(Text)"
   ]
  },
  {
   "cell_type": "code",
   "execution_count": null,
   "metadata": {},
   "outputs": [],
   "source": [
    "engine = create_engine(...)\n",
    "Session = sessionmaker(bind=engine)\n",
    "\n",
    "Base.metadata.create_all(engine)"
   ]
  },
  {
   "cell_type": "code",
   "execution_count": null,
   "metadata": {},
   "outputs": [],
   "source": [
    "query['rpp'] = 10"
   ]
  },
  {
   "cell_type": "code",
   "execution_count": null,
   "metadata": {},
   "outputs": [],
   "source": [
    "for i in range(0, 15):\n",
    "    # query api\n",
    "    query['po'] = i * query['rpp']\n",
    "    print(query['po'])\n",
    "    response = requests.get(api + path, params=query)\n",
    "    \n",
    "    # extract values\n",
    "    page = response.json()\n",
    "    docs = page['documents']\n",
    "    values = [{'comment': doc['commentText']} for doc in docs]\n",
    "    \n",
    "    # load into database\n",
    "    insert = Comment.__table__.insert().values(values)\n",
    "    engine.execute(insert)"
   ]
  },
  {
   "cell_type": "code",
   "execution_count": null,
   "metadata": {},
   "outputs": [],
   "source": [
    "df = pd....('comment', engine)"
   ]
  },
  {
   "cell_type": "code",
   "execution_count": null,
   "metadata": {},
   "outputs": [],
   "source": [
    "engine.dispose()"
   ]
  }
 ],
 "metadata": {
  "kernelspec": {
   "display_name": "Python 3",
   "language": "python",
   "name": "python3"
  },
  "language_info": {
   "codemirror_mode": {
    "name": "ipython",
    "version": 3
   },
   "file_extension": ".py",
   "mimetype": "text/x-python",
   "name": "python",
   "nbconvert_exporter": "python",
   "pygments_lexer": "ipython3",
   "version": "3.7.0"
  }
 },
 "nbformat": 4,
 "nbformat_minor": 2
}
