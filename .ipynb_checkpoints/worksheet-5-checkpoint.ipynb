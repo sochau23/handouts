{
 "cells": [
  {
   "cell_type": "markdown",
   "metadata": {},
   "source": [
    "# MANIPULATING TABULAR DATA\n",
    "\n",
    "## Lesson Objectives\n",
    "\n",
    "* Review what makes a dataset tidy.\n",
    "* Meet a complete set of functions for most table manipulations.\n",
    "* Learn to transform datasets with split-apply-combine procedures.\n",
    "* Understand the basic join operation.\n",
    "\n",
    "## Specific Achievements\n",
    "\n",
    "* Reshape data frames with pandas\n",
    "* Summarize data by groups with pandas\n",
    "* Combine multiple data frame operations with pipes\n",
    "* Combine multiple data frames with “joins” (merge)\n",
    "\n",
    "Data frames occupy a central place in Python data analysis pipelines. The panda package provide the objects and most necessary tools to subset, reformat and transform data frames. The key functions in both packages have close counterparts in SQL (Structured Query Language), which provides the added bonus of facilitating translation between python and relational databases.\n",
    "\n",
    "https://cyberhelp.sesync.org/census-data-manipulation-in-R-lesson/\n",
    "\n"
   ]
  },
  {
   "cell_type": "markdown",
   "metadata": {},
   "source": [
    "## Worksheet"
   ]
  },
  {
   "cell_type": "markdown",
   "metadata": {},
   "source": [
    "## Wide to long\n",
    "\n",
    "The pandas package’s melt function reshapes “wide” data frames into “long” ones."
   ]
  },
  {
   "cell_type": "code",
   "execution_count": null,
   "metadata": {},
   "outputs": [],
   "source": [
    "import pandas as pd\n",
    "import numpy as np\n",
    "trial_df = pd.DataFrame({\"block\": [1,2,3],\n",
    "              \"drug\": [0.22,0.12,0.42],\n",
    "              \"control\": [0.58,0.98,0.19],\n",
    "              \"placebo\": [0.31,0.47,0.40]})\n",
    "trial_df.head()"
   ]
  },
  {
   "cell_type": "code",
   "execution_count": null,
   "metadata": {},
   "outputs": [],
   "source": [
    "tidy_trial_df = pd.melt(trial_df,\n",
    "                  id_vars=['block'],\n",
    "                  var_name='treatment',\n",
    "                  value_name='response')\n",
    "tidy_trial_df.head()"
   ]
  },
  {
   "cell_type": "markdown",
   "metadata": {},
   "source": [
    "## Long to wide"
   ]
  },
  {
   "cell_type": "markdown",
   "metadata": {},
   "source": [
    "Use the \"pivot\" function to go from long format to wide."
   ]
  },
  {
   "cell_type": "code",
   "execution_count": null,
   "metadata": {},
   "outputs": [],
   "source": [
    "df2 = tidy_trial_df.pivot(index='block',\n",
    "                          columns='treatment',\n",
    "                          values='response')\n",
    "df2.columns"
   ]
  },
  {
   "cell_type": "code",
   "execution_count": null,
   "metadata": {},
   "outputs": [],
   "source": [
    "df2.reset_index()"
   ]
  },
  {
   "cell_type": "code",
   "execution_count": null,
   "metadata": {},
   "outputs": [],
   "source": [
    "df2"
   ]
  },
  {
   "cell_type": "markdown",
   "metadata": {},
   "source": [
    "Consider survey data on participant’s age and income stored in a EAV structure."
   ]
  },
  {
   "cell_type": "code",
   "execution_count": null,
   "metadata": {},
   "outputs": [],
   "source": [
    "from io import StringIO, BytesIO\n",
    "\n",
    "text_string = StringIO(\"\"\"\n",
    "participant,attr,val\n",
    "1,age,24\n",
    "2,age,57\n",
    "3,age,13\n",
    "1,income,30\n",
    "2,income,60\n",
    "\"\"\")\n",
    "\n",
    "survey_df = pd.read_csv(text_string, sep=\",\")\n",
    "survey_df"
   ]
  },
  {
   "cell_type": "markdown",
   "metadata": {},
   "source": [
    "Transform the data with the pivot function, which “reverses” a melt. These are equivalent to spread and gather in the dplyr r package."
   ]
  },
  {
   "cell_type": "code",
   "execution_count": null,
   "metadata": {},
   "outputs": [],
   "source": [
    "tidy_survey = survey_df.pivot(index='participant',\n",
    "                          columns='attr',\n",
    "                          values='val')\n",
    "print(tidy_survey.head())"
   ]
  },
  {
   "cell_type": "code",
   "execution_count": null,
   "metadata": {},
   "outputs": [],
   "source": [
    "tidy_survey = tidy_survey.reset_index()\n",
    "tidy_survey.columns"
   ]
  },
  {
   "cell_type": "code",
   "execution_count": null,
   "metadata": {},
   "outputs": [],
   "source": [
    "tidy_survey.reset_index()"
   ]
  },
  {
   "cell_type": "markdown",
   "metadata": {},
   "source": [
    "Note that \"reset_index\" adds the index as a column. It generates a new inde starting from 0 to the number of rows minus 1."
   ]
  },
  {
   "cell_type": "code",
   "execution_count": null,
   "metadata": {},
   "outputs": [],
   "source": [
    "tidy_survey"
   ]
  },
  {
   "cell_type": "markdown",
   "metadata": {},
   "source": [
    "## Sample Data"
   ]
  },
  {
   "cell_type": "code",
   "execution_count": null,
   "metadata": {},
   "outputs": [],
   "source": [
    "import pandas as pd\n",
    "cbp = pd.read_csv('data/cbp15co.csv')\n",
    "cbp.describe()"
   ]
  },
  {
   "cell_type": "code",
   "execution_count": null,
   "metadata": {},
   "outputs": [],
   "source": [
    "print(cbp.dtypes)\n"
   ]
  },
  {
   "cell_type": "code",
   "execution_count": null,
   "metadata": {},
   "outputs": [],
   "source": [
    "import numpy as np\n",
    "import pandas as pd\n",
    "\n",
    "cbp = pd.read_csv(\n",
    "  'data/cbp15co.csv',\n",
    "  na_values = \"NULL\",\n",
    "  keep_default_na=False,\n",
    "  dtype =  {\"FIPSTATE\": np.str, \n",
    "  \"FIPSCTY\": np.str}\n",
    "  )"
   ]
  },
  {
   "cell_type": "code",
   "execution_count": null,
   "metadata": {},
   "outputs": [],
   "source": [
    "import pandas as pd\n",
    "import numpy as np\n",
    "acs =  pd.read_csv(\n",
    "  'data/ACS/sector_ACS_15_5YR_S2413.csv',\n",
    "  dtype = {\"FIPS\": np.str}\n",
    "  )"
   ]
  },
  {
   "cell_type": "code",
   "execution_count": null,
   "metadata": {},
   "outputs": [],
   "source": [
    "print(acs.dtypes)"
   ]
  },
  {
   "cell_type": "markdown",
   "metadata": {},
   "source": [
    "## Typical Data Manipulation Functions\n",
    "\n",
    "## Filter Pattern matching"
   ]
  },
  {
   "cell_type": "code",
   "execution_count": null,
   "metadata": {},
   "outputs": [],
   "source": [
    "cbp2 = cbp[cbp['NAICS'].str.contains(\"----\")]\n",
    "cbp2 = cbp2[~cbp2.NAICS.str.contains(\"-----\")]\n",
    "cbp2.head()"
   ]
  },
  {
   "cell_type": "code",
   "execution_count": null,
   "metadata": {},
   "outputs": [],
   "source": [
    "cbp3 = cbp[cbp['NAICS'].str.contains('[0-9]{2}----')]\n",
    "cbp3.head()"
   ]
  },
  {
   "cell_type": "markdown",
   "metadata": {},
   "source": [
    "## Altering, updating and transforming columns\n"
   ]
  },
  {
   "cell_type": "code",
   "execution_count": null,
   "metadata": {},
   "outputs": [],
   "source": [
    "cbp3[\"FIPS\"] = cbp3[\"FIPSTATE\"]+cbp3[\"FIPSCTY\"]"
   ]
  },
  {
   "cell_type": "code",
   "execution_count": null,
   "metadata": {},
   "outputs": [],
   "source": [
    "cbp3.assign(FIPS2=lambda x: x['FIPSTATE']+x['FIPSCTY'])"
   ]
  },
  {
   "cell_type": "code",
   "execution_count": null,
   "metadata": {},
   "outputs": [],
   "source": [
    "cbp3.shape"
   ]
  },
  {
   "cell_type": "code",
   "execution_count": null,
   "metadata": {},
   "outputs": [],
   "source": [
    "cbp3.head()"
   ]
  },
  {
   "cell_type": "markdown",
   "metadata": {},
   "source": [
    "## Select"
   ]
  },
  {
   "cell_type": "code",
   "execution_count": null,
   "metadata": {},
   "outputs": [],
   "source": [
    "cbp2.columns"
   ]
  },
  {
   "cell_type": "code",
   "execution_count": null,
   "metadata": {},
   "outputs": [],
   "source": [
    "cbp3 = cbp3[['FIPS','NAICS','N1_4', 'N5_9', 'N10_19']] \n",
    "cbp3.head()"
   ]
  },
  {
   "cell_type": "code",
   "execution_count": null,
   "metadata": {},
   "outputs": [],
   "source": [
    "cbp4= cbp.filter(regex='^N|FIPS|NAICS',axis=1) \n",
    "cbp4.head()"
   ]
  },
  {
   "cell_type": "markdown",
   "metadata": {},
   "source": [
    "## Join"
   ]
  },
  {
   "cell_type": "code",
   "execution_count": null,
   "metadata": {},
   "outputs": [],
   "source": [
    "sector =  pd.read_csv(\n",
    "  'data/ACS/sector_naics.csv',\n",
    "  dtype = {\"NAICS\": np.int64})\n",
    "print(sector.dtypes)"
   ]
  },
  {
   "cell_type": "code",
   "execution_count": null,
   "metadata": {},
   "outputs": [],
   "source": [
    "print(cbp.dtypes)"
   ]
  },
  {
   "cell_type": "code",
   "execution_count": null,
   "metadata": {},
   "outputs": [],
   "source": [
    "cbp.head()"
   ]
  },
  {
   "cell_type": "code",
   "execution_count": null,
   "metadata": {},
   "outputs": [],
   "source": [
    "print(sector.dtypes)\n",
    "print(sector.shape) #24 economic sectors\n",
    "sector.head()"
   ]
  },
  {
   "cell_type": "markdown",
   "metadata": {},
   "source": [
    "## Many-to-One"
   ]
  },
  {
   "cell_type": "code",
   "execution_count": null,
   "metadata": {},
   "outputs": [],
   "source": [
    "logical_idx = cbp['NAICS'].str.match('[0-9]{2}----') #boolean index\n",
    "cbp = cbp.loc[logical_idx]\n",
    "cbp.head()"
   ]
  },
  {
   "cell_type": "code",
   "execution_count": null,
   "metadata": {},
   "outputs": [],
   "source": [
    "cbp.shape"
   ]
  },
  {
   "cell_type": "code",
   "execution_count": null,
   "metadata": {},
   "outputs": [],
   "source": [
    "cbp['NAICS']= cbp.NAICS.apply(lambda x: np.int64(x[0:2])) # select first two digits"
   ]
  },
  {
   "cell_type": "code",
   "execution_count": null,
   "metadata": {},
   "outputs": [],
   "source": [
    "#Many to one to join economic sector code to NAICS\n",
    "cbp_test = cbp.merge(sector, on = \"NAICS\", how='inner')\n",
    "cbp_test.head()"
   ]
  },
  {
   "cell_type": "code",
   "execution_count": null,
   "metadata": {},
   "outputs": [],
   "source": [
    "print(cbp_test.shape)"
   ]
  },
  {
   "cell_type": "markdown",
   "metadata": {},
   "source": [
    "## Group By"
   ]
  },
  {
   "cell_type": "code",
   "execution_count": null,
   "metadata": {},
   "outputs": [],
   "source": [
    "cbp[\"FIPS\"] = cbp[\"FIPSTATE\"]+cbp[\"FIPSCTY\"]\n",
    "cbp = cbp.merge(sector, on = \"NAICS\")\n",
    "\n",
    "cbp_grouped = cbp.groupby(['FIPS','Sector'])\n",
    "cbp_grouped"
   ]
  },
  {
   "cell_type": "code",
   "execution_count": null,
   "metadata": {},
   "outputs": [],
   "source": [
    "cbp_grouped.dtypes"
   ]
  },
  {
   "cell_type": "markdown",
   "metadata": {},
   "source": [
    "## Summarize"
   ]
  },
  {
   "cell_type": "code",
   "execution_count": null,
   "metadata": {},
   "outputs": [],
   "source": [
    "grouped_df = (cbp\n",
    ".groupby(['FIPS', 'Sector']) \n",
    ".agg('sum')\n",
    ".filter(regex='^N')\n",
    ".drop(columns=['NAICS'])\n",
    ")\n",
    "\n",
    "grouped_df.head(5)"
   ]
  },
  {
   "cell_type": "code",
   "execution_count": null,
   "metadata": {},
   "outputs": [],
   "source": [
    "print(grouped_df.shape)"
   ]
  },
  {
   "cell_type": "code",
   "execution_count": null,
   "metadata": {},
   "outputs": [],
   "source": [
    "print(acs.shape)"
   ]
  },
  {
   "cell_type": "code",
   "execution_count": null,
   "metadata": {},
   "outputs": [],
   "source": [
    "acs_cbp = grouped_df.merge(acs,on='FIPS',)\n",
    "print(acs_cbp.shape)"
   ]
  },
  {
   "cell_type": "code",
   "execution_count": null,
   "metadata": {},
   "outputs": [],
   "source": [
    "acs_cbp.head()"
   ]
  },
  {
   "cell_type": "code",
   "execution_count": null,
   "metadata": {},
   "outputs": [],
   "source": []
  }
 ],
 "metadata": {
  "kernelspec": {
   "display_name": "Python 3",
   "language": "python",
   "name": "python3"
  },
  "language_info": {
   "codemirror_mode": {
    "name": "ipython",
    "version": 3
   },
   "file_extension": ".py",
   "mimetype": "text/x-python",
   "name": "python",
   "nbconvert_exporter": "python",
   "pygments_lexer": "ipython3",
   "version": "3.5.2"
  }
 },
 "nbformat": 4,
 "nbformat_minor": 2
}
